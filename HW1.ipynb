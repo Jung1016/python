{
  "cells": [
    {
      "cell_type": "code",
      "execution_count": null,
      "metadata": {
        "id": "eTSGyr45dhuE"
      },
      "outputs": [],
      "source": [
        "#이정호 201702768"
      ]
    },
    {
      "cell_type": "code",
      "execution_count": null,
      "metadata": {
        "colab": {
          "base_uri": "https://localhost:8080/"
        },
        "id": "iPP9wCTudnEH",
        "outputId": "35f78895-86fd-4d01-a08d-1fe60ee870da"
      },
      "outputs": [
        {
          "name": "stdout",
          "output_type": "stream",
          "text": [
            "3\n"
          ]
        }
      ],
      "source": [
        "a=1\n",
        "b=2\n",
        "print(a+b)"
      ]
    },
    {
      "cell_type": "code",
      "execution_count": null,
      "metadata": {
        "colab": {
          "base_uri": "https://localhost:8080/"
        },
        "id": "Dv5CArAOqsVn",
        "outputId": "4c21ebe9-fa81-4617-ba30-2e0fd3729328"
      },
      "outputs": [
        {
          "name": "stdout",
          "output_type": "stream",
          "text": [
            "숫자를 입력하세요 0\n",
            "너무 작습니다\n"
          ]
        }
      ],
      "source": [
        "x = input(\"숫자를 입력하세요 \")\n",
        "if x.isdecimal() and x.isnumeric(): #정수 판별\n",
        "  if int(x) <= 0 : #0이나 음수 거르기\n",
        "    print(\"너무 작습니다\")\n",
        "  elif int(x) <= 30: #30 이하\n",
        "    for i in range(0,int(x)):\n",
        "      for j in range(0,i+1):\n",
        "        print(j+1, end=' ')\n",
        "      print()\n",
        "  else:\n",
        "    print(\"너무 많습니다\")\n",
        "else:\n",
        "  print(\"정수로 입력하세요\")"
      ]
    }
  ],
  "metadata": {
    "colab": {
      "collapsed_sections": [],
      "provenance": []
    },
    "kernelspec": {
      "display_name": "Python 3",
      "name": "python3"
    },
    "language_info": {
      "name": "python"
    }
  },
  "nbformat": 4,
  "nbformat_minor": 0
}
