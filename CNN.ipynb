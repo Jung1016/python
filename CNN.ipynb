{
  "nbformat": 4,
  "nbformat_minor": 0,
  "metadata": {
    "colab": {
      "provenance": [],
      "authorship_tag": "ABX9TyO1Mp5EMnKAdxHfllaGacA5",
      "include_colab_link": true
    },
    "kernelspec": {
      "name": "python3",
      "display_name": "Python 3"
    },
    "language_info": {
      "name": "python"
    }
  },
  "cells": [
    {
      "cell_type": "markdown",
      "metadata": {
        "id": "view-in-github",
        "colab_type": "text"
      },
      "source": [
        "<a href=\"https://colab.research.google.com/github/Jung1016/python/blob/main/CNN.ipynb\" target=\"_parent\"><img src=\"https://colab.research.google.com/assets/colab-badge.svg\" alt=\"Open In Colab\"/></a>"
      ]
    },
    {
      "cell_type": "code",
      "execution_count": null,
      "metadata": {
        "id": "rQp7V0NNzqH9"
      },
      "outputs": [],
      "source": [
        "import tensorflow as tf\n",
        "import numpy as np\n",
        "import matplotlib.pyplot as plt\n",
        "\n",
        "fashion_mnist = tf.keras.datasets.fashion_mnist\n",
        "\n",
        "(x_train, y_train), (x_test, y_test) = fashion_mnist.load_data()"
      ]
    },
    {
      "cell_type": "code",
      "source": [
        "from keras.models import Sequential\n",
        "from keras.layers import Dense, Dropout, Flatten, Conv2D, MaxPooling2D\n",
        "from keras.callbacks import ModelCheckpoint, EarlyStopping\n",
        "from keras.datasets import mnist\n",
        "from keras.utils import to_categorical\n",
        "\n",
        "import os\n",
        "\n",
        "plt.imshow(x_train[200], cmap = 'Greys')\n",
        "plt.show()"
      ],
      "metadata": {
        "colab": {
          "base_uri": "https://localhost:8080/",
          "height": 265
        },
        "id": "ixPUiwe102HJ",
        "outputId": "a6412f98-f53c-4480-f719-37eef05da15a"
      },
      "execution_count": null,
      "outputs": [
        {
          "output_type": "display_data",
          "data": {
            "text/plain": [
              "<Figure size 432x288 with 1 Axes>"
            ],
            "image/png": "[encoded data removed]"
          },
          "metadata": {
            "needs_background": "light"
          }
        }
      ]
    },
    {
      "cell_type": "code",
      "source": [
        "import sys\n",
        "\n",
        "for x in x_train[200]:\n",
        "  for i in x:\n",
        "    sys.stdout.write(\"%-3s\" % i)\n",
        "  sys.stdout.write('\\n')"
      ],
      "metadata": {
        "colab": {
          "base_uri": "https://localhost:8080/"
        },
        "id": "RKXwq6Il1gys",
        "outputId": "66f686a4-2ca1-4621-9142-3f98bc911f2a"
      },
      "execution_count": null,
      "outputs": [
        {
          "output_type": "stream",
          "name": "stdout",
          "text": [
            "0  0  0  0  0  0  0  0  0  0  0  0  0  82 12237 0  5  0  0  0  0  0  0  0  0  0  0  \n",
            "0  0  0  0  0  0  0  0  0  0  2  0  38 10028 1210  1  0  0  0  0  0  0  0  0  0  0  \n",
            "0  0  0  0  0  0  0  0  0  0  5  0  86 43 0  13615 0  2  0  0  0  0  0  0  0  0  0  \n",
            "0  0  0  0  0  0  0  0  0  0  2  0  10430 0  10240 0  3  0  0  0  0  0  0  0  0  0  \n",
            "0  0  0  0  0  0  0  0  0  3  0  0  1112  0  73 81 0  4  0  0  0  0  0  0  0  0  0  \n",
            "0  0  0  0  0  0  0  0  0  2  0  17 87 0  0  45 81 0  4  0  0  0  0  0  0  0  0  0  \n",
            "0  0  0  0  0  0  0  0  0  4  0  54 90 0  0  24 92 0  4  0  0  0  0  0  0  0  0  0  \n",
            "0  0  0  0  0  0  0  0  0  3  0  76 30 0  0  0  93 0  0  0  0  0  0  0  0  0  0  0  \n",
            "0  0  0  0  0  0  0  0  0  1  0  74 0  0  0  0  86 0  0  1  0  0  0  0  0  0  0  0  \n",
            "0  0  0  0  0  0  0  0  0  0  0  1090  0  1  0  86 11 0  2  0  0  0  0  0  0  0  0  \n",
            "0  0  0  0  0  0  0  0  2  0  31 79 0  2  2  0  11538 0  4  0  0  0  0  0  0  0  0  \n",
            "0  0  0  0  0  0  0  0  5  0  66 90 0  1  1  0  13658 0  5  0  0  0  0  0  0  0  0  \n",
            "0  0  0  0  0  0  0  0  5  0  82 1360  3  4  0  19576 0  5  0  0  0  0  0  0  0  0  \n",
            "0  0  0  0  0  0  0  0  0  0  95 1660  0  0  0  14480 0  0  0  0  0  0  0  0  0  0  \n",
            "0  0  0  0  0  0  0  0  0  45 14519120 65 68 40 14815979 60 0  0  0  0  0  0  0  0  \n",
            "0  0  0  0  0  0  0  0  70 2281732142082112152162042042111643  0  0  0  0  0  0  0  \n",
            "0  0  0  0  0  0  0  0  57 1761672051991901931951931961831820  0  0  0  0  0  0  0  \n",
            "0  0  0  0  0  0  0  0  80 2001862192041912042102042051891840  0  0  0  0  0  0  0  \n",
            "0  0  0  0  0  0  0  0  1451701731882022022192112042121982200  0  0  0  0  0  0  0  \n",
            "0  0  0  0  0  0  0  0  1741741881922112102152172142191922480  0  0  0  0  0  0  0  \n",
            "0  0  0  0  0  0  0  0  1801901751582092092112172152141902494  0  0  0  0  0  0  0  \n",
            "0  0  0  0  0  0  0  0  18418818021020920521821621220819525316 0  0  0  0  0  0  0  \n",
            "0  0  0  0  0  0  0  0  18320117220320620821621521321319625526 0  0  0  0  0  0  0  \n",
            "0  0  0  0  0  0  0  0  18021518419921421922721821922320022840 0  0  0  0  0  0  0  \n",
            "0  0  0  0  0  0  0  0  18721818520621621522122921921820023253 0  0  0  0  0  0  0  \n",
            "0  0  0  0  0  0  0  0  18420718819821716514621421421420023157 0  0  0  0  0  0  0  \n",
            "0  0  0  0  0  0  0  0  21125222924024425225325325023122724567 0  0  0  0  0  0  0  \n",
            "0  0  0  0  0  0  0  0  10917115716316116716014914214514514911 0  0  0  0  0  0  0  \n"
          ]
        }
      ]
    },
    {
      "cell_type": "code",
      "source": [
        "x_train = x_train.reshape(x_train.shape[0], 28, 28, 1).astype('float32') / 255\n",
        "x_test = x_test.reshape(x_test.shape[0], 28, 28, 1).astype('float32') / 255\n",
        "y_train = to_categorical(y_train)\n",
        "y_test = to_categorical(y_test)\n",
        "\n",
        "y_train[200]"
      ],
      "metadata": {
        "colab": {
          "base_uri": "https://localhost:8080/"
        },
        "id": "uTf4X1SQ1wCG",
        "outputId": "eb71e88d-205a-48db-e981-8330d71e5fb6"
      },
      "execution_count": null,
      "outputs": [
        {
          "output_type": "execute_result",
          "data": {
            "text/plain": [
              "array([0., 0., 0., 0., 0., 0., 0., 0., 1., 0.], dtype=float32)"
            ]
          },
          "metadata": {},
          "execution_count": 18
        }
      ]
    },
    {
      "cell_type": "code",
      "source": [
        "type(y_train)"
      ],
      "metadata": {
        "colab": {
          "base_uri": "https://localhost:8080/"
        },
        "id": "kSVdDdSD2aTe",
        "outputId": "d30ac090-c78f-4678-86ca-8ab983319d4e"
      },
      "execution_count": null,
      "outputs": [
        {
          "output_type": "execute_result",
          "data": {
            "text/plain": [
              "numpy.ndarray"
            ]
          },
          "metadata": {},
          "execution_count": 19
        }
      ]
    },
    {
      "cell_type": "code",
      "source": [
        "model = Sequential()\n",
        "model.add(Conv2D(16, kernel_size = (4, 4), input_shape = (28, 28, 1), activation = 'relu'))\n",
        "model.add(Conv2D(32, (4, 4), activation = 'relu'))\n",
        "model.add(MaxPooling2D(pool_size = (4,4)))\n",
        "model.add(Dropout(0.3))\n",
        "model.add(Flatten())\n",
        "model.add(Dense(64, activation = 'relu'))\n",
        "model.add(Dropout(0.2))\n",
        "model.add(Dense(10, activation = 'softmax'))\n",
        "\n",
        "model.compile(loss = 'categorical_crossentropy', optimizer = 'adam', metrics = ['accuracy'])\n",
        "\n",
        "modelpath = \"./data/model/MNIST_CNN.hdf5\"\n",
        "\n",
        "checkpointer = ModelCheckpoint(filepath = modelpath, monitor = 'val_loss', verbose = 1, save_best_only = True)\n",
        "early_stopping_callback = EarlyStopping(monitor = 'val_loss', patience = 10)\n",
        "\n",
        "history = model.fit(x_train, y_train, validation_split = 0.3, epochs = 40, batch_size = 150, verbose = 0, callbacks = [early_stopping_callback, checkpointer])\n",
        "\n",
        "print(\"\\n Test Accuracy : %.4f\" % (model.evaluate(x_test, y_test)[1]))"
      ],
      "metadata": {
        "colab": {
          "base_uri": "https://localhost:8080/"
        },
        "id": "CTxSdomP2mKM",
        "outputId": "3b6c3d6c-0d60-4963-fa1a-b94ffa1a92da"
      },
      "execution_count": null,
      "outputs": [
        {
          "output_type": "stream",
          "name": "stdout",
          "text": [
            "\n",
            "Epoch 1: val_loss improved from inf to 0.48134, saving model to ./data/model/MNIST_CNN.hdf5\n",
            "\n",
            "Epoch 2: val_loss improved from 0.48134 to 0.41006, saving model to ./data/model/MNIST_CNN.hdf5\n",
            "\n",
            "Epoch 3: val_loss improved from 0.41006 to 0.36042, saving model to ./data/model/MNIST_CNN.hdf5\n",
            "\n",
            "Epoch 4: val_loss improved from 0.36042 to 0.33809, saving model to ./data/model/MNIST_CNN.hdf5\n",
            "\n",
            "Epoch 5: val_loss improved from 0.33809 to 0.32241, saving model to ./data/model/MNIST_CNN.hdf5\n",
            "\n",
            "Epoch 6: val_loss improved from 0.32241 to 0.30677, saving model to ./data/model/MNIST_CNN.hdf5\n",
            "\n",
            "Epoch 7: val_loss improved from 0.30677 to 0.29754, saving model to ./data/model/MNIST_CNN.hdf5\n",
            "\n",
            "Epoch 8: val_loss improved from 0.29754 to 0.29300, saving model to ./data/model/MNIST_CNN.hdf5\n",
            "\n",
            "Epoch 9: val_loss improved from 0.29300 to 0.29228, saving model to ./data/model/MNIST_CNN.hdf5\n",
            "\n",
            "Epoch 10: val_loss improved from 0.29228 to 0.28323, saving model to ./data/model/MNIST_CNN.hdf5\n",
            "\n",
            "Epoch 11: val_loss improved from 0.28323 to 0.27721, saving model to ./data/model/MNIST_CNN.hdf5\n",
            "\n",
            "Epoch 12: val_loss improved from 0.27721 to 0.26308, saving model to ./data/model/MNIST_CNN.hdf5\n",
            "\n",
            "Epoch 13: val_loss improved from 0.26308 to 0.26124, saving model to ./data/model/MNIST_CNN.hdf5\n",
            "\n",
            "Epoch 14: val_loss improved from 0.26124 to 0.25781, saving model to ./data/model/MNIST_CNN.hdf5\n",
            "\n",
            "Epoch 15: val_loss improved from 0.25781 to 0.25222, saving model to ./data/model/MNIST_CNN.hdf5\n",
            "\n",
            "Epoch 16: val_loss improved from 0.25222 to 0.24904, saving model to ./data/model/MNIST_CNN.hdf5\n",
            "\n",
            "Epoch 17: val_loss did not improve from 0.24904\n",
            "\n",
            "Epoch 18: val_loss improved from 0.24904 to 0.24297, saving model to ./data/model/MNIST_CNN.hdf5\n",
            "\n",
            "Epoch 19: val_loss did not improve from 0.24297\n",
            "\n",
            "Epoch 20: val_loss improved from 0.24297 to 0.23792, saving model to ./data/model/MNIST_CNN.hdf5\n",
            "\n",
            "Epoch 21: val_loss improved from 0.23792 to 0.23754, saving model to ./data/model/MNIST_CNN.hdf5\n",
            "\n",
            "Epoch 22: val_loss did not improve from 0.23754\n",
            "\n",
            "Epoch 23: val_loss did not improve from 0.23754\n",
            "\n",
            "Epoch 24: val_loss did not improve from 0.23754\n",
            "\n",
            "Epoch 25: val_loss did not improve from 0.23754\n",
            "\n",
            "Epoch 26: val_loss improved from 0.23754 to 0.23703, saving model to ./data/model/MNIST_CNN.hdf5\n",
            "\n",
            "Epoch 27: val_loss improved from 0.23703 to 0.23445, saving model to ./data/model/MNIST_CNN.hdf5\n",
            "\n",
            "Epoch 28: val_loss improved from 0.23445 to 0.23194, saving model to ./data/model/MNIST_CNN.hdf5\n",
            "\n",
            "Epoch 29: val_loss did not improve from 0.23194\n",
            "\n",
            "Epoch 30: val_loss did not improve from 0.23194\n",
            "\n",
            "Epoch 31: val_loss did not improve from 0.23194\n",
            "\n",
            "Epoch 32: val_loss did not improve from 0.23194\n",
            "\n",
            "Epoch 33: val_loss improved from 0.23194 to 0.23148, saving model to ./data/model/MNIST_CNN.hdf5\n",
            "\n",
            "Epoch 34: val_loss did not improve from 0.23148\n",
            "\n",
            "Epoch 35: val_loss improved from 0.23148 to 0.22860, saving model to ./data/model/MNIST_CNN.hdf5\n",
            "\n",
            "Epoch 36: val_loss improved from 0.22860 to 0.22670, saving model to ./data/model/MNIST_CNN.hdf5\n",
            "\n",
            "Epoch 37: val_loss improved from 0.22670 to 0.22634, saving model to ./data/model/MNIST_CNN.hdf5\n",
            "\n",
            "Epoch 38: val_loss did not improve from 0.22634\n",
            "\n",
            "Epoch 39: val_loss improved from 0.22634 to 0.22611, saving model to ./data/model/MNIST_CNN.hdf5\n",
            "\n",
            "Epoch 40: val_loss improved from 0.22611 to 0.22513, saving model to ./data/model/MNIST_CNN.hdf5\n",
            "313/313 [==============================] - 4s 13ms/step - loss: 0.2368 - accuracy: 0.9148\n",
            "\n",
            " Test Accuracy : 0.9148\n"
          ]
        }
      ]
    },
    {
      "cell_type": "code",
      "source": [
        "y_vloss = history.history['val_loss']\n",
        "y_loss = history.history['loss']\n",
        "\n",
        "x_len = np.arange(len(y_loss))\n",
        "plt.plot(x_len, y_vloss, marker = '.', c = \"red\", label = \"Testset_loss\")\n",
        "plt.plot(x_len, y_loss, marker = '.', c = \"blue\", label = \"Trainset_loss\")\n",
        "\n",
        "plt.legend(loc = 'upper right')\n",
        "plt.grid()\n",
        "plt.xlabel('epoch')\n",
        "plt.ylabel('loss')\n",
        "plt.show()"
      ],
      "metadata": {
        "colab": {
          "base_uri": "https://localhost:8080/",
          "height": 279
        },
        "id": "VnPVNilWrjl4",
        "outputId": "d296e206-898d-4aec-c406-44db7fe32216"
      },
      "execution_count": null,
      "outputs": [
        {
          "output_type": "display_data",
          "data": {
            "text/plain": [
              "<Figure size 432x288 with 1 Axes>"
            ],
            "image/png": "[encoded data removed]"
          },
          "metadata": {
            "needs_background": "light"
          }
        }
      ]
    }
  ]
}